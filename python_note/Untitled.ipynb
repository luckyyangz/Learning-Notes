{
 "cells": [
  {
   "cell_type": "code",
   "execution_count": 5,
   "metadata": {
    "collapsed": false
   },
   "outputs": [],
   "source": [
    "#load csv\n",
    "import pandas as pd\n",
    "import numpy as np\n",
    "lines=open('C:\\Users\\Jiao\\Desktop\\Document\\Gait\\ChenHongliDownstairs01.txt','r').readlines()\n",
    "f=[i.strip() for i in lines]\n",
    "partData=pd.DataFrame(f)\n",
    "#to_csv is a way of pandas\n",
    "partData.to_csv('ChenHongliDownstairs01.csv',index=False)\n",
    "#eg:pandas的数据，里面都有index,有列头，这个api里详细讲述了如何去掉index和列头\n",
    "#df.to_csv('/tmp/9.csv',columns=['open','high'],index=False,header=False)\n",
    "#不要列头，不要索引，只要open,high两列\n"
   ]
  },
  {
   "cell_type": "code",
   "execution_count": null,
   "metadata": {
    "collapsed": true
   },
   "outputs": [],
   "source": []
  }
 ],
 "metadata": {
  "anaconda-cloud": {},
  "kernelspec": {
   "display_name": "Python [default]",
   "language": "python",
   "name": "python2"
  },
  "language_info": {
   "codemirror_mode": {
    "name": "ipython",
    "version": 2
   },
   "file_extension": ".py",
   "mimetype": "text/x-python",
   "name": "python",
   "nbconvert_exporter": "python",
   "pygments_lexer": "ipython2",
   "version": "2.7.12"
  }
 },
 "nbformat": 4,
 "nbformat_minor": 1
}
